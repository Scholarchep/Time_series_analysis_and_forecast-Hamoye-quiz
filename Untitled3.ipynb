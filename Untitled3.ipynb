{
  "nbformat": 4,
  "nbformat_minor": 0,
  "metadata": {
    "colab": {
      "provenance": []
    },
    "kernelspec": {
      "name": "python3",
      "display_name": "Python 3"
    },
    "language_info": {
      "name": "python"
    },
    "accelerator": "GPU",
    "gpuClass": "standard"
  },
  "cells": [
    {
      "cell_type": "markdown",
      "source": [
        "## STAGE E QUIZ"
      ],
      "metadata": {
        "id": "MaXs_YheT9PA"
      }
    },
    {
      "cell_type": "code",
      "source": [
        "# install fbprophet \n",
        "%pip install fbprophet"
      ],
      "metadata": {
        "colab": {
          "base_uri": "https://localhost:8080/"
        },
        "id": "ph0lsMh5r1wE",
        "outputId": "b49b7066-7182-4d68-adaf-20009428e73c"
      },
      "execution_count": 5,
      "outputs": [
        {
          "output_type": "stream",
          "name": "stdout",
          "text": [
            "Looking in indexes: https://pypi.org/simple, https://us-python.pkg.dev/colab-wheels/public/simple/\n",
            "Collecting fbprophet\n",
            "  Using cached fbprophet-0.7.1.tar.gz (64 kB)\n",
            "  Preparing metadata (setup.py) ... \u001b[?25l\u001b[?25hdone\n",
            "Requirement already satisfied: Cython>=0.22 in /usr/local/lib/python3.9/dist-packages (from fbprophet) (0.29.33)\n",
            "Requirement already satisfied: cmdstanpy==0.9.5 in /usr/local/lib/python3.9/dist-packages (from fbprophet) (0.9.5)\n",
            "Requirement already satisfied: pystan>=2.14 in /usr/local/lib/python3.9/dist-packages (from fbprophet) (2.19.1.1)\n",
            "Requirement already satisfied: numpy>=1.15.4 in /usr/local/lib/python3.9/dist-packages (from fbprophet) (1.22.4)\n",
            "Requirement already satisfied: pandas>=1.0.4 in /usr/local/lib/python3.9/dist-packages (from fbprophet) (1.4.4)\n",
            "Requirement already satisfied: matplotlib>=2.0.0 in /usr/local/lib/python3.9/dist-packages (from fbprophet) (3.7.1)\n",
            "Requirement already satisfied: LunarCalendar>=0.0.9 in /usr/local/lib/python3.9/dist-packages (from fbprophet) (0.0.9)\n",
            "Requirement already satisfied: convertdate>=2.1.2 in /usr/local/lib/python3.9/dist-packages (from fbprophet) (2.4.0)\n",
            "Requirement already satisfied: holidays>=0.10.2 in /usr/local/lib/python3.9/dist-packages (from fbprophet) (0.21.13)\n",
            "Requirement already satisfied: setuptools-git>=1.2 in /usr/local/lib/python3.9/dist-packages (from fbprophet) (1.2)\n",
            "Requirement already satisfied: python-dateutil>=2.8.0 in /usr/local/lib/python3.9/dist-packages (from fbprophet) (2.8.2)\n",
            "Requirement already satisfied: tqdm>=4.36.1 in /usr/local/lib/python3.9/dist-packages (from fbprophet) (4.65.0)\n",
            "Requirement already satisfied: pymeeus<=1,>=0.3.13 in /usr/local/lib/python3.9/dist-packages (from convertdate>=2.1.2->fbprophet) (0.5.12)\n",
            "Requirement already satisfied: korean-lunar-calendar in /usr/local/lib/python3.9/dist-packages (from holidays>=0.10.2->fbprophet) (0.3.1)\n",
            "Requirement already satisfied: hijri-converter in /usr/local/lib/python3.9/dist-packages (from holidays>=0.10.2->fbprophet) (2.2.4)\n",
            "Requirement already satisfied: ephem>=3.7.5.3 in /usr/local/lib/python3.9/dist-packages (from LunarCalendar>=0.0.9->fbprophet) (4.1.4)\n",
            "Requirement already satisfied: pytz in /usr/local/lib/python3.9/dist-packages (from LunarCalendar>=0.0.9->fbprophet) (2022.7.1)\n",
            "Requirement already satisfied: cycler>=0.10 in /usr/local/lib/python3.9/dist-packages (from matplotlib>=2.0.0->fbprophet) (0.11.0)\n",
            "Requirement already satisfied: pillow>=6.2.0 in /usr/local/lib/python3.9/dist-packages (from matplotlib>=2.0.0->fbprophet) (8.4.0)\n",
            "Requirement already satisfied: importlib-resources>=3.2.0 in /usr/local/lib/python3.9/dist-packages (from matplotlib>=2.0.0->fbprophet) (5.12.0)\n",
            "Requirement already satisfied: kiwisolver>=1.0.1 in /usr/local/lib/python3.9/dist-packages (from matplotlib>=2.0.0->fbprophet) (1.4.4)\n",
            "Requirement already satisfied: contourpy>=1.0.1 in /usr/local/lib/python3.9/dist-packages (from matplotlib>=2.0.0->fbprophet) (1.0.7)\n",
            "Requirement already satisfied: packaging>=20.0 in /usr/local/lib/python3.9/dist-packages (from matplotlib>=2.0.0->fbprophet) (23.0)\n",
            "Requirement already satisfied: fonttools>=4.22.0 in /usr/local/lib/python3.9/dist-packages (from matplotlib>=2.0.0->fbprophet) (4.39.3)\n",
            "Requirement already satisfied: pyparsing>=2.3.1 in /usr/local/lib/python3.9/dist-packages (from matplotlib>=2.0.0->fbprophet) (3.0.9)\n",
            "Requirement already satisfied: six>=1.5 in /usr/local/lib/python3.9/dist-packages (from python-dateutil>=2.8.0->fbprophet) (1.16.0)\n",
            "Requirement already satisfied: zipp>=3.1.0 in /usr/local/lib/python3.9/dist-packages (from importlib-resources>=3.2.0->matplotlib>=2.0.0->fbprophet) (3.15.0)\n",
            "Building wheels for collected packages: fbprophet\n",
            "  Building wheel for fbprophet (setup.py) ... \u001b[?25l\u001b[?25hdone\n",
            "  Created wheel for fbprophet: filename=fbprophet-0.7.1-py3-none-any.whl size=9436110 sha256=e6124ba167452134c547e4b17db7bc9e7bc4ec5f6032acb2b288b389075ddd6d\n",
            "  Stored in directory: /root/.cache/pip/wheels/da/a4/bb/dbed5db92b2183a753dd96cc8a56706a61484ff3959988bdaa\n",
            "Successfully built fbprophet\n",
            "Installing collected packages: fbprophet\n",
            "Successfully installed fbprophet-0.7.1\n",
            "\u001b[33mWARNING: Running pip as the 'root' user can result in broken permissions and conflicting behaviour with the system package manager. It is recommended to use a virtual environment instead: https://pip.pypa.io/warnings/venv\u001b[0m\u001b[33m\n",
            "\u001b[0m"
          ]
        }
      ]
    },
    {
      "cell_type": "code",
      "source": [
        "# import required libraries\n",
        "import pandas as pd\n",
        "from fbprophet import Prophet\n",
        "from sklearn.metrics import mean_squared_error"
      ],
      "metadata": {
        "id": "Am6eJNW1qXde"
      },
      "execution_count": 6,
      "outputs": []
    },
    {
      "cell_type": "code",
      "source": [
        "# Load the data\n",
        "df = pd.read_csv('Time_series_analysis_and_forecast_DATASET.csv')\n",
        "df"
      ],
      "metadata": {
        "colab": {
          "base_uri": "https://localhost:8080/",
          "height": 423
        },
        "id": "6Q0vaEzwpm_E",
        "outputId": "83beffad-796c-42f1-e0ae-48bd8d24c5c0"
      },
      "execution_count": 37,
      "outputs": [
        {
          "output_type": "execute_result",
          "data": {
            "text/plain": [
              "                  FullDate  Tmax     SysLoad  GasPrice  ElecPrice\n",
              "0      2010-09-01 00:00:00  15.8  1688.21500    3.6900     23.710\n",
              "1      2010-09-01 01:00:00  15.8  1669.19500    3.6900     22.635\n",
              "2      2010-09-01 02:00:00  15.8  1491.98000    3.6900     22.565\n",
              "3      2010-09-01 03:00:00  15.8  1330.76000    3.6900     18.910\n",
              "4      2010-09-01 04:00:00  15.8  1247.94000    3.6900     18.030\n",
              "...                    ...   ...         ...       ...        ...\n",
              "92011  2021-02-28 19:00:00  24.3   449.63625    5.4848    117.925\n",
              "92012  2021-02-28 20:00:00  24.3   815.59975    5.4848     87.880\n",
              "92013  2021-02-28 21:00:00  24.3   745.12325    5.4848     62.060\n",
              "92014  2021-02-28 22:00:00  24.3   694.95150    5.4848     62.000\n",
              "92015  2021-02-28 23:00:00  24.3   714.69630    5.4848     62.955\n",
              "\n",
              "[92016 rows x 5 columns]"
            ],
            "text/html": [
              "\n",
              "  <div id=\"df-f00cb6e8-4a4f-47f3-bd08-e1abebb60020\">\n",
              "    <div class=\"colab-df-container\">\n",
              "      <div>\n",
              "<style scoped>\n",
              "    .dataframe tbody tr th:only-of-type {\n",
              "        vertical-align: middle;\n",
              "    }\n",
              "\n",
              "    .dataframe tbody tr th {\n",
              "        vertical-align: top;\n",
              "    }\n",
              "\n",
              "    .dataframe thead th {\n",
              "        text-align: right;\n",
              "    }\n",
              "</style>\n",
              "<table border=\"1\" class=\"dataframe\">\n",
              "  <thead>\n",
              "    <tr style=\"text-align: right;\">\n",
              "      <th></th>\n",
              "      <th>FullDate</th>\n",
              "      <th>Tmax</th>\n",
              "      <th>SysLoad</th>\n",
              "      <th>GasPrice</th>\n",
              "      <th>ElecPrice</th>\n",
              "    </tr>\n",
              "  </thead>\n",
              "  <tbody>\n",
              "    <tr>\n",
              "      <th>0</th>\n",
              "      <td>2010-09-01 00:00:00</td>\n",
              "      <td>15.8</td>\n",
              "      <td>1688.21500</td>\n",
              "      <td>3.6900</td>\n",
              "      <td>23.710</td>\n",
              "    </tr>\n",
              "    <tr>\n",
              "      <th>1</th>\n",
              "      <td>2010-09-01 01:00:00</td>\n",
              "      <td>15.8</td>\n",
              "      <td>1669.19500</td>\n",
              "      <td>3.6900</td>\n",
              "      <td>22.635</td>\n",
              "    </tr>\n",
              "    <tr>\n",
              "      <th>2</th>\n",
              "      <td>2010-09-01 02:00:00</td>\n",
              "      <td>15.8</td>\n",
              "      <td>1491.98000</td>\n",
              "      <td>3.6900</td>\n",
              "      <td>22.565</td>\n",
              "    </tr>\n",
              "    <tr>\n",
              "      <th>3</th>\n",
              "      <td>2010-09-01 03:00:00</td>\n",
              "      <td>15.8</td>\n",
              "      <td>1330.76000</td>\n",
              "      <td>3.6900</td>\n",
              "      <td>18.910</td>\n",
              "    </tr>\n",
              "    <tr>\n",
              "      <th>4</th>\n",
              "      <td>2010-09-01 04:00:00</td>\n",
              "      <td>15.8</td>\n",
              "      <td>1247.94000</td>\n",
              "      <td>3.6900</td>\n",
              "      <td>18.030</td>\n",
              "    </tr>\n",
              "    <tr>\n",
              "      <th>...</th>\n",
              "      <td>...</td>\n",
              "      <td>...</td>\n",
              "      <td>...</td>\n",
              "      <td>...</td>\n",
              "      <td>...</td>\n",
              "    </tr>\n",
              "    <tr>\n",
              "      <th>92011</th>\n",
              "      <td>2021-02-28 19:00:00</td>\n",
              "      <td>24.3</td>\n",
              "      <td>449.63625</td>\n",
              "      <td>5.4848</td>\n",
              "      <td>117.925</td>\n",
              "    </tr>\n",
              "    <tr>\n",
              "      <th>92012</th>\n",
              "      <td>2021-02-28 20:00:00</td>\n",
              "      <td>24.3</td>\n",
              "      <td>815.59975</td>\n",
              "      <td>5.4848</td>\n",
              "      <td>87.880</td>\n",
              "    </tr>\n",
              "    <tr>\n",
              "      <th>92013</th>\n",
              "      <td>2021-02-28 21:00:00</td>\n",
              "      <td>24.3</td>\n",
              "      <td>745.12325</td>\n",
              "      <td>5.4848</td>\n",
              "      <td>62.060</td>\n",
              "    </tr>\n",
              "    <tr>\n",
              "      <th>92014</th>\n",
              "      <td>2021-02-28 22:00:00</td>\n",
              "      <td>24.3</td>\n",
              "      <td>694.95150</td>\n",
              "      <td>5.4848</td>\n",
              "      <td>62.000</td>\n",
              "    </tr>\n",
              "    <tr>\n",
              "      <th>92015</th>\n",
              "      <td>2021-02-28 23:00:00</td>\n",
              "      <td>24.3</td>\n",
              "      <td>714.69630</td>\n",
              "      <td>5.4848</td>\n",
              "      <td>62.955</td>\n",
              "    </tr>\n",
              "  </tbody>\n",
              "</table>\n",
              "<p>92016 rows × 5 columns</p>\n",
              "</div>\n",
              "      <button class=\"colab-df-convert\" onclick=\"convertToInteractive('df-f00cb6e8-4a4f-47f3-bd08-e1abebb60020')\"\n",
              "              title=\"Convert this dataframe to an interactive table.\"\n",
              "              style=\"display:none;\">\n",
              "        \n",
              "  <svg xmlns=\"http://www.w3.org/2000/svg\" height=\"24px\"viewBox=\"0 0 24 24\"\n",
              "       width=\"24px\">\n",
              "    <path d=\"M0 0h24v24H0V0z\" fill=\"none\"/>\n",
              "    <path d=\"M18.56 5.44l.94 2.06.94-2.06 2.06-.94-2.06-.94-.94-2.06-.94 2.06-2.06.94zm-11 1L8.5 8.5l.94-2.06 2.06-.94-2.06-.94L8.5 2.5l-.94 2.06-2.06.94zm10 10l.94 2.06.94-2.06 2.06-.94-2.06-.94-.94-2.06-.94 2.06-2.06.94z\"/><path d=\"M17.41 7.96l-1.37-1.37c-.4-.4-.92-.59-1.43-.59-.52 0-1.04.2-1.43.59L10.3 9.45l-7.72 7.72c-.78.78-.78 2.05 0 2.83L4 21.41c.39.39.9.59 1.41.59.51 0 1.02-.2 1.41-.59l7.78-7.78 2.81-2.81c.8-.78.8-2.07 0-2.86zM5.41 20L4 18.59l7.72-7.72 1.47 1.35L5.41 20z\"/>\n",
              "  </svg>\n",
              "      </button>\n",
              "      \n",
              "  <style>\n",
              "    .colab-df-container {\n",
              "      display:flex;\n",
              "      flex-wrap:wrap;\n",
              "      gap: 12px;\n",
              "    }\n",
              "\n",
              "    .colab-df-convert {\n",
              "      background-color: #E8F0FE;\n",
              "      border: none;\n",
              "      border-radius: 50%;\n",
              "      cursor: pointer;\n",
              "      display: none;\n",
              "      fill: #1967D2;\n",
              "      height: 32px;\n",
              "      padding: 0 0 0 0;\n",
              "      width: 32px;\n",
              "    }\n",
              "\n",
              "    .colab-df-convert:hover {\n",
              "      background-color: #E2EBFA;\n",
              "      box-shadow: 0px 1px 2px rgba(60, 64, 67, 0.3), 0px 1px 3px 1px rgba(60, 64, 67, 0.15);\n",
              "      fill: #174EA6;\n",
              "    }\n",
              "\n",
              "    [theme=dark] .colab-df-convert {\n",
              "      background-color: #3B4455;\n",
              "      fill: #D2E3FC;\n",
              "    }\n",
              "\n",
              "    [theme=dark] .colab-df-convert:hover {\n",
              "      background-color: #434B5C;\n",
              "      box-shadow: 0px 1px 3px 1px rgba(0, 0, 0, 0.15);\n",
              "      filter: drop-shadow(0px 1px 2px rgba(0, 0, 0, 0.3));\n",
              "      fill: #FFFFFF;\n",
              "    }\n",
              "  </style>\n",
              "\n",
              "      <script>\n",
              "        const buttonEl =\n",
              "          document.querySelector('#df-f00cb6e8-4a4f-47f3-bd08-e1abebb60020 button.colab-df-convert');\n",
              "        buttonEl.style.display =\n",
              "          google.colab.kernel.accessAllowed ? 'block' : 'none';\n",
              "\n",
              "        async function convertToInteractive(key) {\n",
              "          const element = document.querySelector('#df-f00cb6e8-4a4f-47f3-bd08-e1abebb60020');\n",
              "          const dataTable =\n",
              "            await google.colab.kernel.invokeFunction('convertToInteractive',\n",
              "                                                     [key], {});\n",
              "          if (!dataTable) return;\n",
              "\n",
              "          const docLinkHtml = 'Like what you see? Visit the ' +\n",
              "            '<a target=\"_blank\" href=https://colab.research.google.com/notebooks/data_table.ipynb>data table notebook</a>'\n",
              "            + ' to learn more about interactive tables.';\n",
              "          element.innerHTML = '';\n",
              "          dataTable['output_type'] = 'display_data';\n",
              "          await google.colab.output.renderOutput(dataTable, element);\n",
              "          const docLink = document.createElement('div');\n",
              "          docLink.innerHTML = docLinkHtml;\n",
              "          element.appendChild(docLink);\n",
              "        }\n",
              "      </script>\n",
              "    </div>\n",
              "  </div>\n",
              "  "
            ]
          },
          "metadata": {},
          "execution_count": 37
        }
      ]
    },
    {
      "cell_type": "code",
      "source": [
        "# summary information of the data\n",
        "df.info()"
      ],
      "metadata": {
        "colab": {
          "base_uri": "https://localhost:8080/"
        },
        "id": "LaU5DQIlpyyE",
        "outputId": "9f2e7fc9-a955-420a-f206-4dd15c9bad39"
      },
      "execution_count": 23,
      "outputs": [
        {
          "output_type": "stream",
          "name": "stdout",
          "text": [
            "<class 'pandas.core.frame.DataFrame'>\n",
            "RangeIndex: 92016 entries, 0 to 92015\n",
            "Data columns (total 5 columns):\n",
            " #   Column     Non-Null Count  Dtype  \n",
            "---  ------     --------------  -----  \n",
            " 0   FullDate   92016 non-null  object \n",
            " 1   Tmax       92016 non-null  float64\n",
            " 2   SysLoad    92016 non-null  float64\n",
            " 3   GasPrice   92016 non-null  float64\n",
            " 4   ElecPrice  92016 non-null  float64\n",
            "dtypes: float64(4), object(1)\n",
            "memory usage: 3.5+ MB\n"
          ]
        }
      ]
    },
    {
      "cell_type": "markdown",
      "source": [
        "### Question 11"
      ],
      "metadata": {
        "id": "EXJ7qC8HSBgE"
      }
    },
    {
      "cell_type": "code",
      "source": [
        "import matplotlib.pyplot as plt\n",
        "df[\"FullDate\"] = pd.to_datetime(df[\"FullDate\"])\n",
        "df.set_index(\"FullDate\", inplace=True)\n",
        "plt.figure(figsize=(10, 6))\n",
        "plt.plot(df.index, df.ElecPrice, '--', marker='*', )\n",
        "plt.grid()\n",
        "plt.xlabel('Datetime')\n",
        "plt.ylabel('ElecPrice')"
      ],
      "metadata": {
        "colab": {
          "base_uri": "https://localhost:8080/",
          "height": 560
        },
        "id": "npax_t2LzCR5",
        "outputId": "fa0b50d5-598e-4d5e-ac38-9e8953c1a9ae"
      },
      "execution_count": 38,
      "outputs": [
        {
          "output_type": "execute_result",
          "data": {
            "text/plain": [
              "Text(0, 0.5, 'ElecPrice')"
            ]
          },
          "metadata": {},
          "execution_count": 38
        },
        {
          "output_type": "display_data",
          "data": {
            "text/plain": [
              "<Figure size 1000x600 with 1 Axes>"
            ],
            "image/png": "[encoded data removed]"
          },
          "metadata": {}
        }
      ]
    },
    {
      "cell_type": "code",
      "source": [
        "df_daily = df.resample('D').sum()\n",
        "plt.plot(df_daily.index, df_daily.ElecPrice, '--', marker='*')\n",
        "plt.grid()\n",
        "plt.xlabel('Datetime')\n",
        "plt.ylabel('ElecPrice')"
      ],
      "metadata": {
        "colab": {
          "base_uri": "https://localhost:8080/",
          "height": 467
        },
        "id": "KJK_v2PMJkD5",
        "outputId": "bb7945fb-76eb-4bbb-ddc6-3f14b658c0fa"
      },
      "execution_count": 39,
      "outputs": [
        {
          "output_type": "execute_result",
          "data": {
            "text/plain": [
              "Text(0, 0.5, 'ElecPrice')"
            ]
          },
          "metadata": {},
          "execution_count": 39
        },
        {
          "output_type": "display_data",
          "data": {
            "text/plain": [
              "<Figure size 640x480 with 1 Axes>"
            ],
            "image/png": "[encoded data removed]"
          },
          "metadata": {}
        }
      ]
    },
    {
      "cell_type": "markdown",
      "source": [
        "### Question 12 and Question 13"
      ],
      "metadata": {
        "id": "kMydMafWSO_8"
      }
    },
    {
      "cell_type": "code",
      "source": [
        "from statsmodels.tsa.stattools import adfuller\n",
        "adfuller(df_daily[['SysLoad']])"
      ],
      "metadata": {
        "colab": {
          "base_uri": "https://localhost:8080/"
        },
        "id": "OqVWVlS4Kwim",
        "outputId": "05fc03f7-33d9-4148-ff16-9a5a7fbaab65"
      },
      "execution_count": 29,
      "outputs": [
        {
          "output_type": "execute_result",
          "data": {
            "text/plain": [
              "(-3.690158988836652,\n",
              " 0.004253725504574031,\n",
              " 30,\n",
              " 3803,\n",
              " {'1%': -3.432070672988693,\n",
              "  '5%': -2.8623002987378547,\n",
              "  '10%': -2.567174716967499},\n",
              " 79103.01504886393)"
            ]
          },
          "metadata": {},
          "execution_count": 29
        }
      ]
    },
    {
      "cell_type": "markdown",
      "source": [
        "p-value is 0.004254 <br>\n",
        "5%: -2.8623002987378547 <br>\n",
        "10%': -2.567174716967499"
      ],
      "metadata": {
        "id": "QcFBVuEVSiU-"
      }
    },
    {
      "cell_type": "code",
      "source": [
        "adfuller(df_daily[['GasPrice']])"
      ],
      "metadata": {
        "colab": {
          "base_uri": "https://localhost:8080/"
        },
        "id": "pdzyjplRK9v2",
        "outputId": "d17275c6-8d75-422a-9790-d965e6a0affb"
      },
      "execution_count": 30,
      "outputs": [
        {
          "output_type": "execute_result",
          "data": {
            "text/plain": [
              "(-2.902766697165181,\n",
              " 0.045027212884625294,\n",
              " 27,\n",
              " 3806,\n",
              " {'1%': -3.4320693157877544,\n",
              "  '5%': -2.8622996992165364,\n",
              "  '10%': -2.5671743978048323},\n",
              " 32857.5394299048)"
            ]
          },
          "metadata": {},
          "execution_count": 30
        }
      ]
    },
    {
      "cell_type": "markdown",
      "source": [
        "p-value is 0.045027 <br>\n",
        "5%: -2.8623002987378547 <br>\n",
        "10%': -2.567174716967499"
      ],
      "metadata": {
        "id": "10q_yKb5S21d"
      }
    },
    {
      "cell_type": "markdown",
      "source": [
        "### Question 14"
      ],
      "metadata": {
        "id": "gu6OSLOzL3u3"
      }
    },
    {
      "cell_type": "code",
      "source": [
        "# training set: first 2757 rows\n",
        "train_df = df[:2757]\n",
        "\n",
        "# test set: last (x-2757) days \n",
        "test_df = df[2757:]"
      ],
      "metadata": {
        "id": "EcrLEB6VLEB_"
      },
      "execution_count": 46,
      "outputs": []
    },
    {
      "cell_type": "code",
      "source": [
        "train_df = train_df.reset_index()\n",
        "train_df = train_df.rename(columns={'FullDate': 'ds', 'ElecPrice': 'y'})\n",
        "train_df"
      ],
      "metadata": {
        "colab": {
          "base_uri": "https://localhost:8080/",
          "height": 423
        },
        "id": "eJ56vQViOpUV",
        "outputId": "84ba9596-4070-447c-fe23-f60e0549726e"
      },
      "execution_count": 49,
      "outputs": [
        {
          "output_type": "execute_result",
          "data": {
            "text/plain": [
              "                      ds  Tmax     SysLoad  GasPrice       y\n",
              "0    2010-09-01 00:00:00  15.8  1688.21500    3.6900  23.710\n",
              "1    2010-09-01 01:00:00  15.8  1669.19500    3.6900  22.635\n",
              "2    2010-09-01 02:00:00  15.8  1491.98000    3.6900  22.565\n",
              "3    2010-09-01 03:00:00  15.8  1330.76000    3.6900  18.910\n",
              "4    2010-09-01 04:00:00  15.8  1247.94000    3.6900  18.030\n",
              "...                  ...   ...         ...       ...     ...\n",
              "2752 2010-12-24 16:00:00  33.3  1799.49565    3.0988  36.770\n",
              "2753 2010-12-24 17:00:00  33.3  1869.43815    3.0988  35.060\n",
              "2754 2010-12-24 18:00:00  33.3  1836.26230    3.0988  27.980\n",
              "2755 2010-12-24 19:00:00  33.3  1716.70845    3.0988  28.115\n",
              "2756 2010-12-24 20:00:00  33.3  1562.13960    3.0988  27.690\n",
              "\n",
              "[2757 rows x 5 columns]"
            ],
            "text/html": [
              "\n",
              "  <div id=\"df-dc076d8b-501c-4aa6-9c06-aa6f0b8a261b\">\n",
              "    <div class=\"colab-df-container\">\n",
              "      <div>\n",
              "<style scoped>\n",
              "    .dataframe tbody tr th:only-of-type {\n",
              "        vertical-align: middle;\n",
              "    }\n",
              "\n",
              "    .dataframe tbody tr th {\n",
              "        vertical-align: top;\n",
              "    }\n",
              "\n",
              "    .dataframe thead th {\n",
              "        text-align: right;\n",
              "    }\n",
              "</style>\n",
              "<table border=\"1\" class=\"dataframe\">\n",
              "  <thead>\n",
              "    <tr style=\"text-align: right;\">\n",
              "      <th></th>\n",
              "      <th>ds</th>\n",
              "      <th>Tmax</th>\n",
              "      <th>SysLoad</th>\n",
              "      <th>GasPrice</th>\n",
              "      <th>y</th>\n",
              "    </tr>\n",
              "  </thead>\n",
              "  <tbody>\n",
              "    <tr>\n",
              "      <th>0</th>\n",
              "      <td>2010-09-01 00:00:00</td>\n",
              "      <td>15.8</td>\n",
              "      <td>1688.21500</td>\n",
              "      <td>3.6900</td>\n",
              "      <td>23.710</td>\n",
              "    </tr>\n",
              "    <tr>\n",
              "      <th>1</th>\n",
              "      <td>2010-09-01 01:00:00</td>\n",
              "      <td>15.8</td>\n",
              "      <td>1669.19500</td>\n",
              "      <td>3.6900</td>\n",
              "      <td>22.635</td>\n",
              "    </tr>\n",
              "    <tr>\n",
              "      <th>2</th>\n",
              "      <td>2010-09-01 02:00:00</td>\n",
              "      <td>15.8</td>\n",
              "      <td>1491.98000</td>\n",
              "      <td>3.6900</td>\n",
              "      <td>22.565</td>\n",
              "    </tr>\n",
              "    <tr>\n",
              "      <th>3</th>\n",
              "      <td>2010-09-01 03:00:00</td>\n",
              "      <td>15.8</td>\n",
              "      <td>1330.76000</td>\n",
              "      <td>3.6900</td>\n",
              "      <td>18.910</td>\n",
              "    </tr>\n",
              "    <tr>\n",
              "      <th>4</th>\n",
              "      <td>2010-09-01 04:00:00</td>\n",
              "      <td>15.8</td>\n",
              "      <td>1247.94000</td>\n",
              "      <td>3.6900</td>\n",
              "      <td>18.030</td>\n",
              "    </tr>\n",
              "    <tr>\n",
              "      <th>...</th>\n",
              "      <td>...</td>\n",
              "      <td>...</td>\n",
              "      <td>...</td>\n",
              "      <td>...</td>\n",
              "      <td>...</td>\n",
              "    </tr>\n",
              "    <tr>\n",
              "      <th>2752</th>\n",
              "      <td>2010-12-24 16:00:00</td>\n",
              "      <td>33.3</td>\n",
              "      <td>1799.49565</td>\n",
              "      <td>3.0988</td>\n",
              "      <td>36.770</td>\n",
              "    </tr>\n",
              "    <tr>\n",
              "      <th>2753</th>\n",
              "      <td>2010-12-24 17:00:00</td>\n",
              "      <td>33.3</td>\n",
              "      <td>1869.43815</td>\n",
              "      <td>3.0988</td>\n",
              "      <td>35.060</td>\n",
              "    </tr>\n",
              "    <tr>\n",
              "      <th>2754</th>\n",
              "      <td>2010-12-24 18:00:00</td>\n",
              "      <td>33.3</td>\n",
              "      <td>1836.26230</td>\n",
              "      <td>3.0988</td>\n",
              "      <td>27.980</td>\n",
              "    </tr>\n",
              "    <tr>\n",
              "      <th>2755</th>\n",
              "      <td>2010-12-24 19:00:00</td>\n",
              "      <td>33.3</td>\n",
              "      <td>1716.70845</td>\n",
              "      <td>3.0988</td>\n",
              "      <td>28.115</td>\n",
              "    </tr>\n",
              "    <tr>\n",
              "      <th>2756</th>\n",
              "      <td>2010-12-24 20:00:00</td>\n",
              "      <td>33.3</td>\n",
              "      <td>1562.13960</td>\n",
              "      <td>3.0988</td>\n",
              "      <td>27.690</td>\n",
              "    </tr>\n",
              "  </tbody>\n",
              "</table>\n",
              "<p>2757 rows × 5 columns</p>\n",
              "</div>\n",
              "      <button class=\"colab-df-convert\" onclick=\"convertToInteractive('df-dc076d8b-501c-4aa6-9c06-aa6f0b8a261b')\"\n",
              "              title=\"Convert this dataframe to an interactive table.\"\n",
              "              style=\"display:none;\">\n",
              "        \n",
              "  <svg xmlns=\"http://www.w3.org/2000/svg\" height=\"24px\"viewBox=\"0 0 24 24\"\n",
              "       width=\"24px\">\n",
              "    <path d=\"M0 0h24v24H0V0z\" fill=\"none\"/>\n",
              "    <path d=\"M18.56 5.44l.94 2.06.94-2.06 2.06-.94-2.06-.94-.94-2.06-.94 2.06-2.06.94zm-11 1L8.5 8.5l.94-2.06 2.06-.94-2.06-.94L8.5 2.5l-.94 2.06-2.06.94zm10 10l.94 2.06.94-2.06 2.06-.94-2.06-.94-.94-2.06-.94 2.06-2.06.94z\"/><path d=\"M17.41 7.96l-1.37-1.37c-.4-.4-.92-.59-1.43-.59-.52 0-1.04.2-1.43.59L10.3 9.45l-7.72 7.72c-.78.78-.78 2.05 0 2.83L4 21.41c.39.39.9.59 1.41.59.51 0 1.02-.2 1.41-.59l7.78-7.78 2.81-2.81c.8-.78.8-2.07 0-2.86zM5.41 20L4 18.59l7.72-7.72 1.47 1.35L5.41 20z\"/>\n",
              "  </svg>\n",
              "      </button>\n",
              "      \n",
              "  <style>\n",
              "    .colab-df-container {\n",
              "      display:flex;\n",
              "      flex-wrap:wrap;\n",
              "      gap: 12px;\n",
              "    }\n",
              "\n",
              "    .colab-df-convert {\n",
              "      background-color: #E8F0FE;\n",
              "      border: none;\n",
              "      border-radius: 50%;\n",
              "      cursor: pointer;\n",
              "      display: none;\n",
              "      fill: #1967D2;\n",
              "      height: 32px;\n",
              "      padding: 0 0 0 0;\n",
              "      width: 32px;\n",
              "    }\n",
              "\n",
              "    .colab-df-convert:hover {\n",
              "      background-color: #E2EBFA;\n",
              "      box-shadow: 0px 1px 2px rgba(60, 64, 67, 0.3), 0px 1px 3px 1px rgba(60, 64, 67, 0.15);\n",
              "      fill: #174EA6;\n",
              "    }\n",
              "\n",
              "    [theme=dark] .colab-df-convert {\n",
              "      background-color: #3B4455;\n",
              "      fill: #D2E3FC;\n",
              "    }\n",
              "\n",
              "    [theme=dark] .colab-df-convert:hover {\n",
              "      background-color: #434B5C;\n",
              "      box-shadow: 0px 1px 3px 1px rgba(0, 0, 0, 0.15);\n",
              "      filter: drop-shadow(0px 1px 2px rgba(0, 0, 0, 0.3));\n",
              "      fill: #FFFFFF;\n",
              "    }\n",
              "  </style>\n",
              "\n",
              "      <script>\n",
              "        const buttonEl =\n",
              "          document.querySelector('#df-dc076d8b-501c-4aa6-9c06-aa6f0b8a261b button.colab-df-convert');\n",
              "        buttonEl.style.display =\n",
              "          google.colab.kernel.accessAllowed ? 'block' : 'none';\n",
              "\n",
              "        async function convertToInteractive(key) {\n",
              "          const element = document.querySelector('#df-dc076d8b-501c-4aa6-9c06-aa6f0b8a261b');\n",
              "          const dataTable =\n",
              "            await google.colab.kernel.invokeFunction('convertToInteractive',\n",
              "                                                     [key], {});\n",
              "          if (!dataTable) return;\n",
              "\n",
              "          const docLinkHtml = 'Like what you see? Visit the ' +\n",
              "            '<a target=\"_blank\" href=https://colab.research.google.com/notebooks/data_table.ipynb>data table notebook</a>'\n",
              "            + ' to learn more about interactive tables.';\n",
              "          element.innerHTML = '';\n",
              "          dataTable['output_type'] = 'display_data';\n",
              "          await google.colab.output.renderOutput(dataTable, element);\n",
              "          const docLink = document.createElement('div');\n",
              "          docLink.innerHTML = docLinkHtml;\n",
              "          element.appendChild(docLink);\n",
              "        }\n",
              "      </script>\n",
              "    </div>\n",
              "  </div>\n",
              "  "
            ]
          },
          "metadata": {},
          "execution_count": 49
        }
      ]
    },
    {
      "cell_type": "code",
      "source": [
        "# Create and fit Prophet model\n",
        "model = Prophet()\n",
        "model.fit(train_df) "
      ],
      "metadata": {
        "colab": {
          "base_uri": "https://localhost:8080/"
        },
        "id": "JJMkIHRVM1zW",
        "outputId": "27a9ab18-2983-49b3-adf2-af90fcf81e2c"
      },
      "execution_count": 50,
      "outputs": [
        {
          "output_type": "stream",
          "name": "stderr",
          "text": [
            "INFO:fbprophet:Disabling yearly seasonality. Run prophet with yearly_seasonality=True to override this.\n",
            "/usr/local/lib/python3.9/dist-packages/fbprophet/forecaster.py:891: FutureWarning: The frame.append method is deprecated and will be removed from pandas in a future version. Use pandas.concat instead.\n",
            "  components = components.append(new_comp)\n"
          ]
        },
        {
          "output_type": "execute_result",
          "data": {
            "text/plain": [
              "<fbprophet.forecaster.Prophet at 0x7fa5a8b31190>"
            ]
          },
          "metadata": {},
          "execution_count": 50
        }
      ]
    },
    {
      "cell_type": "code",
      "source": [
        "#predict for the next 10 months\n",
        "future = model.make_future_dataframe(periods= 10 , freq= 'M' )\n",
        "forecast = model.predict(future)\n",
        "forecast.head()\n",
        "forecast[[ 'ds' , 'yhat' , 'yhat_lower' , 'yhat_upper' , 'trend' , 'trend_lower' , 'trend_upper' ]] \n"
      ],
      "metadata": {
        "colab": {
          "base_uri": "https://localhost:8080/",
          "height": 515
        },
        "id": "BqTaryZFOMr4",
        "outputId": "b8e1477f-0244-434b-ac47-aef8b5df4b09"
      },
      "execution_count": 51,
      "outputs": [
        {
          "output_type": "stream",
          "name": "stderr",
          "text": [
            "/usr/local/lib/python3.9/dist-packages/fbprophet/forecaster.py:891: FutureWarning: The frame.append method is deprecated and will be removed from pandas in a future version. Use pandas.concat instead.\n",
            "  components = components.append(new_comp)\n",
            "/usr/local/lib/python3.9/dist-packages/fbprophet/forecaster.py:891: FutureWarning: The frame.append method is deprecated and will be removed from pandas in a future version. Use pandas.concat instead.\n",
            "  components = components.append(new_comp)\n"
          ]
        },
        {
          "output_type": "execute_result",
          "data": {
            "text/plain": [
              "                      ds       yhat  yhat_lower  yhat_upper      trend  \\\n",
              "0    2010-09-01 00:00:00  44.843581  -74.901170  172.672327  37.132409   \n",
              "1    2010-09-01 01:00:00  43.798407  -89.251763  177.192305  37.083175   \n",
              "2    2010-09-01 02:00:00  40.212732  -86.070880  159.772642  37.033940   \n",
              "3    2010-09-01 03:00:00  36.184714  -80.708810  163.197554  36.984706   \n",
              "4    2010-09-01 04:00:00  33.651450  -93.867364  158.304920  36.935471   \n",
              "...                  ...        ...         ...         ...        ...   \n",
              "2762 2011-05-31 20:00:00 -21.110755 -250.736097  206.607465 -26.781290   \n",
              "2763 2011-06-30 20:00:00 -38.644769 -324.961644  269.856821 -34.465511   \n",
              "2764 2011-07-31 20:00:00 -46.434971 -394.711706  305.874602 -42.405873   \n",
              "2765 2011-08-31 20:00:00 -33.784560 -441.857270  397.376033 -50.346234   \n",
              "2766 2011-09-30 20:00:00 -54.629245 -509.955540  434.891545 -58.030455   \n",
              "\n",
              "      trend_lower  trend_upper  \n",
              "0       37.132409    37.132409  \n",
              "1       37.083175    37.083175  \n",
              "2       37.033940    37.033940  \n",
              "3       36.984706    36.984706  \n",
              "4       36.935471    36.935471  \n",
              "...           ...          ...  \n",
              "2762  -220.301701   174.194016  \n",
              "2763  -283.507391   231.475508  \n",
              "2764  -353.042397   290.949054  \n",
              "2765  -434.412445   352.758024  \n",
              "2766  -517.525035   419.623596  \n",
              "\n",
              "[2767 rows x 7 columns]"
            ],
            "text/html": [
              "\n",
              "  <div id=\"df-a96c559b-9608-4ff1-87bf-82da711fd0b7\">\n",
              "    <div class=\"colab-df-container\">\n",
              "      <div>\n",
              "<style scoped>\n",
              "    .dataframe tbody tr th:only-of-type {\n",
              "        vertical-align: middle;\n",
              "    }\n",
              "\n",
              "    .dataframe tbody tr th {\n",
              "        vertical-align: top;\n",
              "    }\n",
              "\n",
              "    .dataframe thead th {\n",
              "        text-align: right;\n",
              "    }\n",
              "</style>\n",
              "<table border=\"1\" class=\"dataframe\">\n",
              "  <thead>\n",
              "    <tr style=\"text-align: right;\">\n",
              "      <th></th>\n",
              "      <th>ds</th>\n",
              "      <th>yhat</th>\n",
              "      <th>yhat_lower</th>\n",
              "      <th>yhat_upper</th>\n",
              "      <th>trend</th>\n",
              "      <th>trend_lower</th>\n",
              "      <th>trend_upper</th>\n",
              "    </tr>\n",
              "  </thead>\n",
              "  <tbody>\n",
              "    <tr>\n",
              "      <th>0</th>\n",
              "      <td>2010-09-01 00:00:00</td>\n",
              "      <td>44.843581</td>\n",
              "      <td>-74.901170</td>\n",
              "      <td>172.672327</td>\n",
              "      <td>37.132409</td>\n",
              "      <td>37.132409</td>\n",
              "      <td>37.132409</td>\n",
              "    </tr>\n",
              "    <tr>\n",
              "      <th>1</th>\n",
              "      <td>2010-09-01 01:00:00</td>\n",
              "      <td>43.798407</td>\n",
              "      <td>-89.251763</td>\n",
              "      <td>177.192305</td>\n",
              "      <td>37.083175</td>\n",
              "      <td>37.083175</td>\n",
              "      <td>37.083175</td>\n",
              "    </tr>\n",
              "    <tr>\n",
              "      <th>2</th>\n",
              "      <td>2010-09-01 02:00:00</td>\n",
              "      <td>40.212732</td>\n",
              "      <td>-86.070880</td>\n",
              "      <td>159.772642</td>\n",
              "      <td>37.033940</td>\n",
              "      <td>37.033940</td>\n",
              "      <td>37.033940</td>\n",
              "    </tr>\n",
              "    <tr>\n",
              "      <th>3</th>\n",
              "      <td>2010-09-01 03:00:00</td>\n",
              "      <td>36.184714</td>\n",
              "      <td>-80.708810</td>\n",
              "      <td>163.197554</td>\n",
              "      <td>36.984706</td>\n",
              "      <td>36.984706</td>\n",
              "      <td>36.984706</td>\n",
              "    </tr>\n",
              "    <tr>\n",
              "      <th>4</th>\n",
              "      <td>2010-09-01 04:00:00</td>\n",
              "      <td>33.651450</td>\n",
              "      <td>-93.867364</td>\n",
              "      <td>158.304920</td>\n",
              "      <td>36.935471</td>\n",
              "      <td>36.935471</td>\n",
              "      <td>36.935471</td>\n",
              "    </tr>\n",
              "    <tr>\n",
              "      <th>...</th>\n",
              "      <td>...</td>\n",
              "      <td>...</td>\n",
              "      <td>...</td>\n",
              "      <td>...</td>\n",
              "      <td>...</td>\n",
              "      <td>...</td>\n",
              "      <td>...</td>\n",
              "    </tr>\n",
              "    <tr>\n",
              "      <th>2762</th>\n",
              "      <td>2011-05-31 20:00:00</td>\n",
              "      <td>-21.110755</td>\n",
              "      <td>-250.736097</td>\n",
              "      <td>206.607465</td>\n",
              "      <td>-26.781290</td>\n",
              "      <td>-220.301701</td>\n",
              "      <td>174.194016</td>\n",
              "    </tr>\n",
              "    <tr>\n",
              "      <th>2763</th>\n",
              "      <td>2011-06-30 20:00:00</td>\n",
              "      <td>-38.644769</td>\n",
              "      <td>-324.961644</td>\n",
              "      <td>269.856821</td>\n",
              "      <td>-34.465511</td>\n",
              "      <td>-283.507391</td>\n",
              "      <td>231.475508</td>\n",
              "    </tr>\n",
              "    <tr>\n",
              "      <th>2764</th>\n",
              "      <td>2011-07-31 20:00:00</td>\n",
              "      <td>-46.434971</td>\n",
              "      <td>-394.711706</td>\n",
              "      <td>305.874602</td>\n",
              "      <td>-42.405873</td>\n",
              "      <td>-353.042397</td>\n",
              "      <td>290.949054</td>\n",
              "    </tr>\n",
              "    <tr>\n",
              "      <th>2765</th>\n",
              "      <td>2011-08-31 20:00:00</td>\n",
              "      <td>-33.784560</td>\n",
              "      <td>-441.857270</td>\n",
              "      <td>397.376033</td>\n",
              "      <td>-50.346234</td>\n",
              "      <td>-434.412445</td>\n",
              "      <td>352.758024</td>\n",
              "    </tr>\n",
              "    <tr>\n",
              "      <th>2766</th>\n",
              "      <td>2011-09-30 20:00:00</td>\n",
              "      <td>-54.629245</td>\n",
              "      <td>-509.955540</td>\n",
              "      <td>434.891545</td>\n",
              "      <td>-58.030455</td>\n",
              "      <td>-517.525035</td>\n",
              "      <td>419.623596</td>\n",
              "    </tr>\n",
              "  </tbody>\n",
              "</table>\n",
              "<p>2767 rows × 7 columns</p>\n",
              "</div>\n",
              "      <button class=\"colab-df-convert\" onclick=\"convertToInteractive('df-a96c559b-9608-4ff1-87bf-82da711fd0b7')\"\n",
              "              title=\"Convert this dataframe to an interactive table.\"\n",
              "              style=\"display:none;\">\n",
              "        \n",
              "  <svg xmlns=\"http://www.w3.org/2000/svg\" height=\"24px\"viewBox=\"0 0 24 24\"\n",
              "       width=\"24px\">\n",
              "    <path d=\"M0 0h24v24H0V0z\" fill=\"none\"/>\n",
              "    <path d=\"M18.56 5.44l.94 2.06.94-2.06 2.06-.94-2.06-.94-.94-2.06-.94 2.06-2.06.94zm-11 1L8.5 8.5l.94-2.06 2.06-.94-2.06-.94L8.5 2.5l-.94 2.06-2.06.94zm10 10l.94 2.06.94-2.06 2.06-.94-2.06-.94-.94-2.06-.94 2.06-2.06.94z\"/><path d=\"M17.41 7.96l-1.37-1.37c-.4-.4-.92-.59-1.43-.59-.52 0-1.04.2-1.43.59L10.3 9.45l-7.72 7.72c-.78.78-.78 2.05 0 2.83L4 21.41c.39.39.9.59 1.41.59.51 0 1.02-.2 1.41-.59l7.78-7.78 2.81-2.81c.8-.78.8-2.07 0-2.86zM5.41 20L4 18.59l7.72-7.72 1.47 1.35L5.41 20z\"/>\n",
              "  </svg>\n",
              "      </button>\n",
              "      \n",
              "  <style>\n",
              "    .colab-df-container {\n",
              "      display:flex;\n",
              "      flex-wrap:wrap;\n",
              "      gap: 12px;\n",
              "    }\n",
              "\n",
              "    .colab-df-convert {\n",
              "      background-color: #E8F0FE;\n",
              "      border: none;\n",
              "      border-radius: 50%;\n",
              "      cursor: pointer;\n",
              "      display: none;\n",
              "      fill: #1967D2;\n",
              "      height: 32px;\n",
              "      padding: 0 0 0 0;\n",
              "      width: 32px;\n",
              "    }\n",
              "\n",
              "    .colab-df-convert:hover {\n",
              "      background-color: #E2EBFA;\n",
              "      box-shadow: 0px 1px 2px rgba(60, 64, 67, 0.3), 0px 1px 3px 1px rgba(60, 64, 67, 0.15);\n",
              "      fill: #174EA6;\n",
              "    }\n",
              "\n",
              "    [theme=dark] .colab-df-convert {\n",
              "      background-color: #3B4455;\n",
              "      fill: #D2E3FC;\n",
              "    }\n",
              "\n",
              "    [theme=dark] .colab-df-convert:hover {\n",
              "      background-color: #434B5C;\n",
              "      box-shadow: 0px 1px 3px 1px rgba(0, 0, 0, 0.15);\n",
              "      filter: drop-shadow(0px 1px 2px rgba(0, 0, 0, 0.3));\n",
              "      fill: #FFFFFF;\n",
              "    }\n",
              "  </style>\n",
              "\n",
              "      <script>\n",
              "        const buttonEl =\n",
              "          document.querySelector('#df-a96c559b-9608-4ff1-87bf-82da711fd0b7 button.colab-df-convert');\n",
              "        buttonEl.style.display =\n",
              "          google.colab.kernel.accessAllowed ? 'block' : 'none';\n",
              "\n",
              "        async function convertToInteractive(key) {\n",
              "          const element = document.querySelector('#df-a96c559b-9608-4ff1-87bf-82da711fd0b7');\n",
              "          const dataTable =\n",
              "            await google.colab.kernel.invokeFunction('convertToInteractive',\n",
              "                                                     [key], {});\n",
              "          if (!dataTable) return;\n",
              "\n",
              "          const docLinkHtml = 'Like what you see? Visit the ' +\n",
              "            '<a target=\"_blank\" href=https://colab.research.google.com/notebooks/data_table.ipynb>data table notebook</a>'\n",
              "            + ' to learn more about interactive tables.';\n",
              "          element.innerHTML = '';\n",
              "          dataTable['output_type'] = 'display_data';\n",
              "          await google.colab.output.renderOutput(dataTable, element);\n",
              "          const docLink = document.createElement('div');\n",
              "          docLink.innerHTML = docLinkHtml;\n",
              "          element.appendChild(docLink);\n",
              "        }\n",
              "      </script>\n",
              "    </div>\n",
              "  </div>\n",
              "  "
            ]
          },
          "metadata": {},
          "execution_count": 51
        }
      ]
    },
    {
      "cell_type": "code",
      "source": [
        "# function for MAPE\n",
        "import numpy as np\n",
        "\n",
        "def mape(actual, predicted):\n",
        "    return np.mean(np.abs((actual - predicted) / actual)) * 100"
      ],
      "metadata": {
        "id": "6FvKRZxbMpnI"
      },
      "execution_count": null,
      "outputs": []
    }
  ]
}